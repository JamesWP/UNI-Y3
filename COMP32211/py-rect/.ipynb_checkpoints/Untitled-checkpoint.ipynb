{
 "cells": [
  {
   "cell_type": "code",
   "execution_count": 9,
   "metadata": {
    "collapsed": false
   },
   "outputs": [],
   "source": [
    "def calcMask(pxDone,offset):\n",
    "        return [0]*offset + [1]*pxDone + [0] * (4-(offset+pxDone))\n",
    "    \n",
    "\"\"\"\n",
    "case pxDone:\n",
    "1:\n",
    "    case offset:\n",
    "        3:0001\n",
    "        2:0010\n",
    "        1:0100\n",
    "        0:1000\n",
    "2:\n",
    "    case offset:\n",
    "        2:0011\n",
    "        1:0110\n",
    "        0:1100\n",
    "3:\n",
    "    case offset:\n",
    "        1:0111\n",
    "        0:1110\n",
    "4:\n",
    "    case offset:\n",
    "        0:1111\n",
    "\n",
    "\"\"\""
   ]
  },
  {
   "cell_type": "code",
   "execution_count": 11,
   "metadata": {
    "collapsed": false
   },
   "outputs": [],
   "source": [
    "class Req:\n",
    "    def __init__(self,x,w):\n",
    "        self.x = x\n",
    "        self.w = w\n",
    "    def nextColReq(self):\n",
    "        x = self.x\n",
    "        w = self.w\n",
    "        pxDone = (1<<2) - (x & ((1<<2)-1)) if w>3 else w\n",
    "        xword = x&((0-1)<<2)\n",
    "        wordl = (1<<2)\n",
    "        r = Req(xword+wordl,w-pxDone) if w-pxDone>=0 else Req(0,0)\n",
    "        offset = x - xword\n",
    "        mask = [1,1,1,1] if pxDone == 4 else calcMask(pxDone,offset)\n",
    "        n = ColReq(mask,xword) if w-pxDone>=0 else ColReq(0,0)\n",
    "        return (n,r) if w > 0 else (None,r)\n",
    "    def correctOutput(self):\n",
    "        return [0]*self.x + [1]*self.w + [0]*(self.x - (int((1<<2) * round(float(self.x)/(1<<2)))))\n",
    "    def __str__(self):\n",
    "        return \"Req({0},{1})\".format(self.x,self.w)"
   ]
  },
  {
   "cell_type": "code",
   "execution_count": 12,
   "metadata": {
    "collapsed": false
   },
   "outputs": [],
   "source": [
    "class ColReq:\n",
    "    def __init__(self,mask,x):\n",
    "        self.mask = mask\n",
    "        self.x = x\n",
    "    def p(self):\n",
    "        return \"ColReq({0},{1})\".format(self.mask,self.x)\n",
    "    def __str__(self):\n",
    "        return self.p()"
   ]
  },
  {
   "cell_type": "code",
   "execution_count": 29,
   "metadata": {
    "collapsed": false,
    "scrolled": true
   },
   "outputs": [
    {
     "name": "stdout",
     "output_type": "stream",
     "text": [
      "[0, 0, 0, 0, 0, 1, 1, 1, 1, 1, 1, 1, 1, 1, 1, 1, 1, 1, 1, 1, 1, 1, 1, 1, 1, 0]\n",
      "[0, 0, 0, 0, 0, 0, 1, 1, 1, 1, 1, 1, 1, 1, 1, 1, 1, 1, 1, 1, 1, 1, 1, 1, 1, 1, 0, 0, 0]\n",
      "('Req(5,20)', 'ColReq([0, 1, 1, 1],4)')\n",
      "('Req(8,17)', 'ColReq([1, 1, 1, 1],8)')\n",
      "('Req(12,13)', 'ColReq([1, 1, 1, 1],12)')\n",
      "('Req(16,9)', 'ColReq([1, 1, 1, 1],16)')\n",
      "('Req(20,5)', 'ColReq([1, 1, 1, 1],20)')\n",
      "('Req(24,1)', 'ColReq([1, 0, 0, 0],24)')\n"
     ]
    }
   ],
   "source": [
    "r = Req(5,20)\n",
    "print r.correctOutput()\n",
    "drawn = []\n",
    "reqs = [r]\n",
    "\n",
    "(n,r) = r.nextColReq()\n",
    "\n",
    "while n is not None:\n",
    "    drawn.append(n)\n",
    "    reqs.append(r)\n",
    "    (n,r) = r.nextColReq()\n",
    "print ([0]*reqs[0].x) + reduce(lambda a,x:a+x,map(lambda x: x.mask,drawn))\n",
    "print \"\\n\".join(map(str,zip(map(str,reqs) ,map(str,drawn) )))\n",
    "#print \"\\n\".join(map(str,drawn))\n",
    "#print \"\\n\".join(map(str,reqs))"
   ]
  },
  {
   "cell_type": "code",
   "execution_count": null,
   "metadata": {
    "collapsed": false
   },
   "outputs": [],
   "source": [
    "# REQ\n",
    "\"\"\"\n",
    "    awaiting input\n",
    "    drawing ( call submodule, calculate next req)\n",
    "    \n",
    "    awaiting input -> drawing ( when we have request)\n",
    "    drawing -> drawing (when we have more to draw)\n",
    "    drawing -> awaiting input\n",
    "\"\"\""
   ]
  },
  {
   "cell_type": "code",
   "execution_count": 76,
   "metadata": {
    "collapsed": false
   },
   "outputs": [
    {
     "data": {
      "text/plain": [
       "3"
      ]
     },
     "execution_count": 76,
     "metadata": {},
     "output_type": "execute_result"
    }
   ],
   "source": []
  },
  {
   "cell_type": "code",
   "execution_count": null,
   "metadata": {
    "collapsed": true
   },
   "outputs": [],
   "source": []
  }
 ],
 "metadata": {
  "kernelspec": {
   "display_name": "Python 2",
   "language": "python",
   "name": "python2"
  },
  "language_info": {
   "codemirror_mode": {
    "name": "ipython",
    "version": 2
   },
   "file_extension": ".py",
   "mimetype": "text/x-python",
   "name": "python",
   "nbconvert_exporter": "python",
   "pygments_lexer": "ipython2",
   "version": "2.7.9"
  }
 },
 "nbformat": 4,
 "nbformat_minor": 0
}

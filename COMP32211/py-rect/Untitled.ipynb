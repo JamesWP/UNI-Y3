{
 "cells": [
  {
   "cell_type": "code",
   "execution_count": 229,
   "metadata": {
    "collapsed": false
   },
   "outputs": [],
   "source": [
    "class Req:\n",
    "    def __init__(self,x,w):\n",
    "        self.x = x\n",
    "        self.w = w\n",
    "    def nextColReq(self):\n",
    "        x = self.x\n",
    "        w = self.w\n",
    "        pxDone = (1<<2) - (x & ((1<<2)-1))\n",
    "        xword = x&((0-1)<<2)\n",
    "        wordl = (1<<2)\n",
    "        r = Req(xword+wordl,w-pxDone) if w-pxDone>=0 else Req(0,0)\n",
    "        n = ColReq(pxDone,xword) if w-pxDone>=0 else ColReq(0,0)\n",
    "        return (n,r)"
   ]
  },
  {
   "cell_type": "code",
   "execution_count": 230,
   "metadata": {
    "collapsed": false
   },
   "outputs": [],
   "source": [
    "class ColReq:\n",
    "    def __init__(self,mask,x):\n",
    "        self.mask = mask\n",
    "        self.x = x\n",
    "    def p(self):\n",
    "        return \"ColReq({0},{1})\".format(self.x, self.mask)"
   ]
  },
  {
   "cell_type": "code",
   "execution_count": 231,
   "metadata": {
    "collapsed": false
   },
   "outputs": [],
   "source": [
    "#map(lambda x: ((3,x),Req(3,x).nextColReq()[1].w),range(15))"
   ]
  },
  {
   "cell_type": "code",
   "execution_count": null,
   "metadata": {
    "collapsed": false
   },
   "outputs": [],
   "source": []
  },
  {
   "cell_type": "code",
   "execution_count": 232,
   "metadata": {
    "collapsed": false
   },
   "outputs": [
    {
     "name": "stdout",
     "output_type": "stream",
     "text": [
      "[0, 1, 2, 4, 5, 6, 7, 8, 9, 10, 11, 12, 13, 14, 15]\n"
     ]
    }
   ],
   "source": [
    "req = Req(1,16)\n",
    "(n,r) = req.nextColReq()\n",
    "drawn = []\n",
    "while n.mask>0:\n",
    "    drawn.append(range(n.x, n.x+n.mask))\n",
    "    req = r\n",
    "    (n,r) = req.nextColReq()\n",
    "print [item for sublist in drawn for item in sublist]"
   ]
  },
  {
   "cell_type": "code",
   "execution_count": null,
   "metadata": {
    "collapsed": false
   },
   "outputs": [],
   "source": []
  },
  {
   "cell_type": "code",
   "execution_count": null,
   "metadata": {
    "collapsed": false
   },
   "outputs": [],
   "source": []
  },
  {
   "cell_type": "code",
   "execution_count": null,
   "metadata": {
    "collapsed": true
   },
   "outputs": [],
   "source": []
  }
 ],
 "metadata": {
  "kernelspec": {
   "display_name": "Python 2",
   "language": "python",
   "name": "python2"
  },
  "language_info": {
   "codemirror_mode": {
    "name": "ipython",
    "version": 2
   },
   "file_extension": ".py",
   "mimetype": "text/x-python",
   "name": "python",
   "nbconvert_exporter": "python",
   "pygments_lexer": "ipython2",
   "version": "2.7.9"
  }
 },
 "nbformat": 4,
 "nbformat_minor": 0
}
